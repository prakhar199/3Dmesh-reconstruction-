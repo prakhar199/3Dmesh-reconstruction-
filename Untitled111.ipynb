{
 "cells": [
  {
   "cell_type": "code",
   "execution_count": 1,
   "id": "edd70b36",
   "metadata": {},
   "outputs": [],
   "source": [
    "import torch\n",
    "import numpy as np\n",
    "import matplotlib.pyplot as plt\n",
    "from torch import nn,optim\n",
    "from mpl_toolkits.mplot3d import Axes3D\n",
    "from torch.utils.data import Dataset, DataLoader\n",
    "import torchvision.transforms as transforms"
   ]
  },
  {
   "cell_type": "code",
   "execution_count": 2,
   "id": "13d70f78",
   "metadata": {},
   "outputs": [],
   "source": [
    "import json\n",
    "\n",
    "with open('./samples/sample_data.json') as f:\n",
    "    x = json.load(f)"
   ]
  },
  {
   "cell_type": "code",
   "execution_count": 3,
   "id": "0a52b6e0",
   "metadata": {},
   "outputs": [
    {
     "name": "stdout",
     "output_type": "stream",
     "text": [
      "{'length_start': 3388, 'length_end': 3217, 'width_start': 3351, 'width_end': 3349, 'height_start': 3353, 'height_end': 3324}\n"
     ]
    }
   ],
   "source": [
    "import pickle\n",
    "from star.pytorch.star import STAR\n",
    "\n",
    "with open ('idx_data.txt', 'rb') as fr:\n",
    "    idx_data = pickle.load(fr)\n",
    "    \n",
    "print(idx_data)\n",
    "\n",
    "length_start_idx = idx_data['length_start']\n",
    "length_end_idx = idx_data['length_end']\n",
    "width_start_idx = idx_data['width_start']\n",
    "width_end_idx = idx_data['width_end']\n",
    "height_start_idx = idx_data['height_start']\n",
    "height_end_idx = idx_data['height_end']\n",
    "\n",
    "sample_data = []"
   ]
  },
  {
   "cell_type": "code",
   "execution_count": 4,
   "id": "1ee468ee",
   "metadata": {},
   "outputs": [],
   "source": [
    "num_betas = 300\n",
    "batch_size = 1\n",
    "\n",
    "poses = torch.FloatTensor(np.zeros((batch_size,72)))\n",
    "trans = torch.FloatTensor(np.zeros((batch_size,3)))\n"
   ]
  },
  {
   "cell_type": "code",
   "execution_count": 5,
   "id": "1a91a158",
   "metadata": {},
   "outputs": [
    {
     "name": "stdout",
     "output_type": "stream",
     "text": [
      "torch.Size([800, 3])\n",
      "torch.Size([800, 300])\n",
      "torch.Size([200, 3])\n",
      "torch.Size([200, 300])\n"
     ]
    }
   ],
   "source": [
    "num = 0\n",
    "train_x = []\n",
    "train_y = []\n",
    "test_x = []\n",
    "test_y = []\n",
    "\n",
    "for case in x:\n",
    "    if num < 800:\n",
    "        train_x.append([case['feature']['length'],case['feature']['width'],case['feature']['height']])\n",
    "        train_y.append(case['shape'])   \n",
    "    elif num < 1000:\n",
    "        test_x.append([case['feature']['length'],case['feature']['width'],case['feature']['height']])\n",
    "        test_y.append(case['shape'])   \n",
    "    num+=1 \n",
    "\n",
    "train_x = torch.tensor(train_x)\n",
    "train_y = torch.tensor(train_y).reshape(800,300)\n",
    "test_x = torch.tensor(test_x)\n",
    "test_y = torch.tensor(test_y).reshape(200,300)\n",
    "\n",
    "print(train_x.shape)\n",
    "print(train_y.shape)\n",
    "print(test_x.shape)\n",
    "print(test_y.shape)"
   ]
  },
  {
   "cell_type": "code",
   "execution_count": 6,
   "id": "201b6987",
   "metadata": {},
   "outputs": [],
   "source": [
    "from torch.utils.data import Dataset, DataLoader\n",
    "\n",
    "class Data(Dataset):\n",
    "    def __init__(self):\n",
    "            self.x=train_x\n",
    "            self.w=torch.zeros(3,300)\n",
    "            self.b=torch.zeros(800,300)\n",
    "            self.f=torch.mm(self.x,self.w)+self.b\n",
    "            \n",
    "            self.y=train_y\n",
    "            self.len=self.x.shape[0]\n",
    "\n",
    "    def __getitem__(self,index):\n",
    "        return self.x[index],self.y[index]\n",
    "    \n",
    "    def __len__(self):\n",
    "        return len(self.x)"
   ]
  },
  {
   "cell_type": "code",
   "execution_count": 7,
   "id": "9cfe635a",
   "metadata": {},
   "outputs": [],
   "source": [
    "data_set=Data()"
   ]
  },
  {
   "cell_type": "code",
   "execution_count": 8,
   "id": "f2884377",
   "metadata": {},
   "outputs": [],
   "source": [
    "class linear_regression(nn.Module):\n",
    "    def __init__(self,input_size,output_size):\n",
    "        super(linear_regression,self).__init__()\n",
    "        self.linear=nn.Linear(input_size,output_size)\n",
    "    def forward(self,x):\n",
    "        ythat=self.linear(x)\n",
    "        return ythat"
   ]
  },
  {
   "cell_type": "code",
   "execution_count": 9,
   "id": "004fa47c",
   "metadata": {},
   "outputs": [],
   "source": [
    "model=linear_regression(3,300)"
   ]
  },
  {
   "cell_type": "code",
   "execution_count": 10,
   "id": "baaa6b52",
   "metadata": {},
   "outputs": [],
   "source": [
    "optimizer = optim.SGD(model.parameters(), lr = 0.1)"
   ]
  },
  {
   "cell_type": "code",
   "execution_count": 11,
   "id": "d8cd791e",
   "metadata": {},
   "outputs": [],
   "source": [
    "criterion = nn.MSELoss()"
   ]
  },
  {
   "cell_type": "code",
   "execution_count": 12,
   "id": "a306ead9",
   "metadata": {},
   "outputs": [],
   "source": [
    "train_loader=DataLoader(dataset=data_set,batch_size=1800, shuffle=True)"
   ]
  },
  {
   "cell_type": "code",
   "execution_count": 13,
   "id": "15c5e00f",
   "metadata": {},
   "outputs": [],
   "source": [
    "LOSS=[]\n",
    " \n",
    "epochs=7000\n",
    "for epoch in range(epochs):\n",
    "    for x,y in train_loader:\n",
    "        prediction = model(x)\n",
    "        #calculate loss        \n",
    "        loss=criterion(prediction ,y)\n",
    "        #store loss/cost \n",
    "        LOSS.append(loss.item())\n",
    "        #clear gradient \n",
    "        optimizer.zero_grad()\n",
    "        #Backward pass: compute gradient of the loss with respect to all the learnable parameters\n",
    "        loss.backward()\n",
    "        #the step function on an Optimizer makes an update to its parameters\n",
    "        optimizer.step()\n",
    "     \n",
    "\n"
   ]
  },
  {
   "cell_type": "code",
   "execution_count": 14,
   "id": "cc026509",
   "metadata": {},
   "outputs": [
    {
     "data": {
      "image/png": "[encoded data removed]",
      "text/plain": [
       "<Figure size 432x288 with 1 Axes>"
      ]
     },
     "metadata": {
      "needs_background": "light"
     },
     "output_type": "display_data"
    }
   ],
   "source": [
    "plt.plot(LOSS)\n",
    "plt.xlabel(\"iterations \")\n",
    "plt.ylabel(\"Cost/total loss \")\n",
    "plt.show()"
   ]
  },
  {
   "cell_type": "code",
   "execution_count": 15,
   "id": "e6870cb5",
   "metadata": {},
   "outputs": [],
   "source": [
    "num_betas = 300\n",
    "batch_size = 1\n",
    "poses = torch.FloatTensor(np.zeros((batch_size,72)))\n",
    "trans = torch.FloatTensor(np.zeros((batch_size,3)))\n",
    "\n",
    "def test(model, optimizer, x_test, y_test):\n",
    "    cost_sum = 0 \n",
    "    for x in x_test:\n",
    "        betas = model(x)\n",
    "        betas = torch.reshape(betas,(1,300))\n",
    "        mystar = STAR(gender='female',num_betas=num_betas)\n",
    "        mymodel = mystar.forward(poses , betas , trans)\n",
    "        shaped = mymodel.v_shaped[-1, :, :]\n",
    "\n",
    "        x_diff = shaped[3387][0]\n",
    "        y_diff = shaped[3387][1]\n",
    "        z_diff = shaped[3387][2]\n",
    "\n",
    "        length = (shaped[length_end_idx-1][2]-shaped[length_start_idx-1][2]).item()\n",
    "        width = (shaped[width_end_idx-1][0]-shaped[width_start_idx-1][0]).item()\n",
    "        height = (shaped[height_end_idx-1][1]-shaped[height_start_idx-1][1]).item()\n",
    "\n",
    "        prediction = torch.tensor([length, width, height])\n",
    "        \n",
    "        cost = criterion(prediction*100, x*100)\n",
    "        #print('cost',cost)\n",
    "        #print('prediction',prediction*100)\n",
    "        #print('x_test',x*100)\n",
    "        #print('\\n')\n",
    "        cost_sum += cost.item()\n",
    "    print('mean cost: ' , cost_sum / len(x_test))\n",
    "    \n",
    "    "
   ]
  },
  {
   "cell_type": "code",
   "execution_count": 16,
   "id": "005c3509",
   "metadata": {},
   "outputs": [
    {
     "name": "stdout",
     "output_type": "stream",
     "text": [
      "mean cost:  0.40229519763961435\n"
     ]
    }
   ],
   "source": [
    "test(model, optimizer, test_x, test_y)\n"
   ]
  },
  {
   "cell_type": "code",
   "execution_count": null,
   "id": "167f1dfd",
   "metadata": {},
   "outputs": [],
   "source": []
  }
 ],
 "metadata": {
  "kernelspec": {
   "display_name": "Python 3 (ipykernel)",
   "language": "python",
   "name": "python3"
  },
  "language_info": {
   "codemirror_mode": {
    "name": "ipython",
    "version": 3
   },
   "file_extension": ".py",
   "mimetype": "text/x-python",
   "name": "python",
   "nbconvert_exporter": "python",
   "pygments_lexer": "ipython3",
   "version": "3.9.7"
  }
 },
 "nbformat": 4,
 "nbformat_minor": 5
}
