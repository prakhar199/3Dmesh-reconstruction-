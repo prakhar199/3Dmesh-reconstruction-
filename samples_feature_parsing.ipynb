{
 "cells": [
  {
   "cell_type": "code",
   "execution_count": null,
   "id": "6c77d01c",
   "metadata": {},
   "outputs": [],
   "source": [
    "with open ('./samples/female_samples_feature.txt', 'rb') as fr:\n",
    "    feature_female = pickle.load(fr)\n",
    "    \n",
    "\n",
    "    "
   ]
  },
  {
   "cell_type": "code",
   "execution_count": null,
   "id": "5cc27999",
   "metadata": {},
   "outputs": [],
   "source": [
    "with open ('./samples/male_samples_feature.txt', 'rb') as fr:\n",
    "    feature_male = pickle.load(fr)"
   ]
  }
 ],
 "metadata": {
  "kernelspec": {
   "display_name": "Python 3 (ipykernel)",
   "language": "python",
   "name": "python3"
  },
  "language_info": {
   "codemirror_mode": {
    "name": "ipython",
    "version": 3
   },
   "file_extension": ".py",
   "mimetype": "text/x-python",
   "name": "python",
   "nbconvert_exporter": "python",
   "pygments_lexer": "ipython3",
   "version": "3.9.7"
  }
 },
 "nbformat": 4,
 "nbformat_minor": 5
}
